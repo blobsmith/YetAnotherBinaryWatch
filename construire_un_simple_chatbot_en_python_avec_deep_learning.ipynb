{
  "nbformat": 4,
  "nbformat_minor": 0,
  "metadata": {
    "colab": {
      "provenance": [],
      "include_colab_link": true
    },
    "kernelspec": {
      "name": "python3",
      "display_name": "Python 3"
    },
    "language_info": {
      "name": "python"
    }
  },
  "cells": [
    {
      "cell_type": "markdown",
      "metadata": {
        "id": "view-in-github",
        "colab_type": "text"
      },
      "source": [
        "<a href=\"https://colab.research.google.com/github/blobsmith/YetAnotherBinaryWatch/blob/master/construire_un_simple_chatbot_en_python_avec_deep_learning.ipynb\" target=\"_parent\"><img src=\"https://colab.research.google.com/assets/colab-badge.svg\" alt=\"Open In Colab\"/></a>"
      ]
    },
    {
      "cell_type": "code",
      "metadata": {
        "id": "7dtL69p5SO4N"
      },
      "source": [
        "# utilisation d'un dictionnaire pour représenter un fichier JSON d'intentions\n",
        "data = {\"intents\": [\n",
        "             {\"tag\": \"greeting\",\n",
        "              \"patterns\": [\"Hello\", \"La forme?\", \"yo\", \"Salut\", \"ça roule?\"],\n",
        "              \"responses\": [\"Salut à toi!\", \"Hello\", \"Comment vas tu?\", \"Salutations!\", \"Enchanté\"],\n",
        "             },\n",
        "             {\"tag\": \"age\",\n",
        "              \"patterns\": [\"Quel âge as-tu?\", \"C'est quand ton anniversaire?\", \"Quand es-tu né?\"],\n",
        "              \"responses\": [\"J'ai 25 ans\", \"Je suis né en 1996\", \"Ma date d'anniversaire est le 3 juillet et je suis né en 1996\", \"03/07/1996\"]\n",
        "             },\n",
        "             {\"tag\": \"date\",\n",
        "              \"patterns\": [\"Que fais-tu ce week-end?\",\n",
        "\"Tu veux qu'on fasse un truc ensemble?\", \"Quels sont tes plans pour cette semaine\"],\n",
        "              \"responses\": [\"Je suis libre toute la semaine\", \"Je n'ai rien de prévu\", \"Je ne suis pas occupé\"]\n",
        "             },\n",
        "             {\"tag\": \"name\",\n",
        "              \"patterns\": [\"Quel est ton prénom?\", \"Comment tu t'appelles?\", \"Qui es-tu?\"],\n",
        "              \"responses\": [\"Mon prénom est Miki\", \"Je suis Miki\", \"Miki\"]\n",
        "             },\n",
        "             {\"tag\": \"goodbye\",\n",
        "              \"patterns\": [ \"bye\", \"Salut\", \"see ya\", \"adios\", \"cya\"],\n",
        "              \"responses\": [\"C'était sympa de te parler\", \"à plus tard\", \"On se reparle très vite!\"]\n",
        "             }\n",
        "]}"
      ],
      "execution_count": 2,
      "outputs": []
    },
    {
      "cell_type": "code",
      "metadata": {
        "colab": {
          "base_uri": "https://localhost:8080/"
        },
        "id": "nIXl5WrwSc-V",
        "outputId": "3b690729-29d4-4045-d319-ea7f5354d1c3"
      },
      "source": [
        "import json\n",
        "import string\n",
        "import random\n",
        "import nltk\n",
        "import numpy as np\n",
        "from nltk.stem import WordNetLemmatizer\n",
        "import tensorflow as tf\n",
        "from tensorflow.keras import Sequential\n",
        "from tensorflow.keras.layers import Dense, Dropout\n",
        "nltk.download(\"punkt\")\n",
        "nltk.download(\"wordnet\")"
      ],
      "execution_count": 3,
      "outputs": [
        {
          "output_type": "stream",
          "name": "stderr",
          "text": [
            "[nltk_data] Downloading package punkt to /root/nltk_data...\n",
            "[nltk_data]   Unzipping tokenizers/punkt.zip.\n",
            "[nltk_data] Downloading package wordnet to /root/nltk_data...\n"
          ]
        },
        {
          "output_type": "execute_result",
          "data": {
            "text/plain": [
              "True"
            ]
          },
          "metadata": {},
          "execution_count": 3
        }
      ]
    },
    {
      "cell_type": "code",
      "metadata": {
        "id": "uJhMJVQ6ShZO"
      },
      "source": [
        "# initialisation de lemmatizer pour obtenir la racine des mots\n",
        "lemmatizer = WordNetLemmatizer()\n",
        "\n",
        "# création des listes\n",
        "words = []\n",
        "classes = []\n",
        "doc_X = []\n",
        "doc_y = []\n",
        "\n",
        "# parcourir avec une boucle For toutes les intentions\n",
        "# tokéniser chaque pattern et ajouter les tokens à la liste words, les patterns et\n",
        "# le tag associé à l'intention sont ajoutés aux listes correspondantes\n",
        "for intent in data[\"intents\"]:\n",
        "    for pattern in intent[\"patterns\"]:\n",
        "        tokens = nltk.word_tokenize(pattern)\n",
        "        words.extend(tokens)\n",
        "        doc_X.append(pattern)\n",
        "        doc_y.append(intent[\"tag\"])\n",
        "\n",
        "    # ajouter le tag aux classes s'il n'est pas déjà là\n",
        "    if intent[\"tag\"] not in classes:\n",
        "        classes.append(intent[\"tag\"])\n",
        "\n",
        "# lemmatiser tous les mots du vocabulaire et les convertir en minuscule\n",
        "# si les mots n'apparaissent pas dans la ponctuation\n",
        "words = [lemmatizer.lemmatize(word.lower()) for word in words if word not in string.punctuation]\n",
        "\n",
        "# trier le vocabulaire et les classes par ordre alphabétique et prendre le\n",
        "# set pour s'assurer qu'il n'y a pas de doublons\n",
        "words = sorted(set(words))\n",
        "classes = sorted(set(classes))"
      ],
      "execution_count": 4,
      "outputs": []
    },
    {
      "cell_type": "code",
      "metadata": {
        "colab": {
          "base_uri": "https://localhost:8080/"
        },
        "id": "IBNA5qxwSnii",
        "outputId": "2ab93bb7-2c0d-417d-91ab-cacd0dc31362"
      },
      "source": [
        "print(words)"
      ],
      "execution_count": 5,
      "outputs": [
        {
          "output_type": "stream",
          "name": "stdout",
          "text": [
            "['adios', 'anniversaire', 'as-tu', 'bye', \"c'est\", 'ce', 'cette', 'comment', 'cya', 'ensemble', 'es-tu', 'est', 'fais-tu', 'fasse', 'forme', 'hello', 'la', 'né', 'plan', 'pour', 'prénom', \"qu'on\", 'quand', 'que', 'quel', 'quels', 'qui', 'roule', 'salut', 'see', 'semaine', 'sont', \"t'appelles\", 'te', 'ton', 'truc', 'tu', 'un', 'veux', 'week-end', 'ya', 'yo', 'âge', 'ça']\n"
          ]
        }
      ]
    },
    {
      "cell_type": "code",
      "metadata": {
        "colab": {
          "base_uri": "https://localhost:8080/"
        },
        "id": "701jEXUuStkw",
        "outputId": "7b9297cc-98e1-4e32-9acf-28915f5e71a7"
      },
      "source": [
        "print(classes)"
      ],
      "execution_count": 6,
      "outputs": [
        {
          "output_type": "stream",
          "name": "stdout",
          "text": [
            "['age', 'date', 'goodbye', 'greeting', 'name']\n"
          ]
        }
      ]
    },
    {
      "cell_type": "code",
      "metadata": {
        "colab": {
          "base_uri": "https://localhost:8080/"
        },
        "id": "3kKUEoKZS1Tx",
        "outputId": "def9acf2-76ce-40ed-b09e-15878708d435"
      },
      "source": [
        "print(doc_X)"
      ],
      "execution_count": 7,
      "outputs": [
        {
          "output_type": "stream",
          "name": "stdout",
          "text": [
            "['Hello', 'La forme?', 'yo', 'Salut', 'ça roule?', 'Quel âge as-tu?', \"C'est quand ton anniversaire?\", 'Quand es-tu né?', 'Que fais-tu ce week-end?', \"Tu veux qu'on fasse un truc ensemble?\", 'Quels sont tes plans pour cette semaine', 'Quel est ton prénom?', \"Comment tu t'appelles?\", 'Qui es-tu?', 'bye', 'Salut', 'see ya', 'adios', 'cya']\n"
          ]
        }
      ]
    },
    {
      "cell_type": "code",
      "metadata": {
        "colab": {
          "base_uri": "https://localhost:8080/"
        },
        "id": "4qY5u3OyS34t",
        "outputId": "f00c3488-e64f-4435-e368-525dea3d05cb"
      },
      "source": [
        "print(doc_y)"
      ],
      "execution_count": 8,
      "outputs": [
        {
          "output_type": "stream",
          "name": "stdout",
          "text": [
            "['greeting', 'greeting', 'greeting', 'greeting', 'greeting', 'age', 'age', 'age', 'date', 'date', 'date', 'name', 'name', 'name', 'goodbye', 'goodbye', 'goodbye', 'goodbye', 'goodbye']\n"
          ]
        }
      ]
    },
    {
      "cell_type": "code",
      "metadata": {
        "id": "t7WokoSoS6fR"
      },
      "source": [
        "# liste pour les données d'entraînement\n",
        "training = []\n",
        "out_empty = [0] * len(classes)\n",
        "\n",
        "# création du modèle d'ensemble de mots\n",
        "for idx, doc in enumerate(doc_X):\n",
        "    bow = []\n",
        "    text = lemmatizer.lemmatize(doc.lower())\n",
        "    for word in words:\n",
        "        bow.append(1) if word in text else bow.append(0)\n",
        "\n",
        "    # marque l'index de la classe à laquelle le pattern atguel est associé à\n",
        "    output_row = list(out_empty)\n",
        "    output_row[classes.index(doc_y[idx])] = 1\n",
        "\n",
        "    # ajoute le one hot encoded BoW et les classes associées à la liste training\n",
        "    training.append([bow, output_row])\n",
        "\n",
        "# mélanger les données et les convertir en array\n",
        "random.shuffle(training)\n",
        "training = np.array(training, dtype=object)\n",
        "\n",
        "# séparer les features et les labels target\n",
        "train_X = np.array(list(training[:, 0]))\n",
        "train_y = np.array(list(training[:, 1]))"
      ],
      "execution_count": 9,
      "outputs": []
    },
    {
      "cell_type": "code",
      "metadata": {
        "id": "c-BsD9F7WJdr"
      },
      "source": [
        "# définition de quelques paramètres\n",
        "input_shape = (len(train_X[0]),)\n",
        "output_shape = len(train_y[0])\n",
        "epochs = 200"
      ],
      "execution_count": 10,
      "outputs": []
    },
    {
      "cell_type": "code",
      "metadata": {
        "id": "bkp_It0nS-bd",
        "outputId": "59fd22ed-1ee9-45b3-b8a8-85981ff94250",
        "colab": {
          "base_uri": "https://localhost:8080/",
          "height": 391
        }
      },
      "source": [
        "# modèle Deep Learning\n",
        "model = Sequential()\n",
        "model.add(Dense(128, input_shape=input_shape, activation=\"relu\"))\n",
        "model.add(Dropout(0.5))\n",
        "model.add(Dense(64, activation=\"relu\"))\n",
        "model.add(Dropout(0.3))\n",
        "model.add(Dense(output_shape, activation = \"softmax\"))\n",
        "\n",
        "adam = tf.keras.optimizers.Adam(learning_rate=0.01, decay=1e-6)\n",
        "model.compile(loss='categorical_crossentropy', optimizer=adam, metrics=[\"accuracy\"])"
      ],
      "execution_count": 11,
      "outputs": [
        {
          "output_type": "error",
          "ename": "ValueError",
          "evalue": "ignored",
          "traceback": [
            "\u001b[0;31m---------------------------------------------------------------------------\u001b[0m",
            "\u001b[0;31mValueError\u001b[0m                                Traceback (most recent call last)",
            "\u001b[0;32m<ipython-input-11-ab1c139fb4a5>\u001b[0m in \u001b[0;36m<cell line: 9>\u001b[0;34m()\u001b[0m\n\u001b[1;32m      7\u001b[0m \u001b[0mmodel\u001b[0m\u001b[0;34m.\u001b[0m\u001b[0madd\u001b[0m\u001b[0;34m(\u001b[0m\u001b[0mDense\u001b[0m\u001b[0;34m(\u001b[0m\u001b[0moutput_shape\u001b[0m\u001b[0;34m,\u001b[0m \u001b[0mactivation\u001b[0m \u001b[0;34m=\u001b[0m \u001b[0;34m\"softmax\"\u001b[0m\u001b[0;34m)\u001b[0m\u001b[0;34m)\u001b[0m\u001b[0;34m\u001b[0m\u001b[0;34m\u001b[0m\u001b[0m\n\u001b[1;32m      8\u001b[0m \u001b[0;34m\u001b[0m\u001b[0m\n\u001b[0;32m----> 9\u001b[0;31m \u001b[0madam\u001b[0m \u001b[0;34m=\u001b[0m \u001b[0mtf\u001b[0m\u001b[0;34m.\u001b[0m\u001b[0mkeras\u001b[0m\u001b[0;34m.\u001b[0m\u001b[0moptimizers\u001b[0m\u001b[0;34m.\u001b[0m\u001b[0mAdam\u001b[0m\u001b[0;34m(\u001b[0m\u001b[0mlearning_rate\u001b[0m\u001b[0;34m=\u001b[0m\u001b[0;36m0.01\u001b[0m\u001b[0;34m,\u001b[0m \u001b[0mdecay\u001b[0m\u001b[0;34m=\u001b[0m\u001b[0;36m1e-6\u001b[0m\u001b[0;34m)\u001b[0m\u001b[0;34m\u001b[0m\u001b[0;34m\u001b[0m\u001b[0m\n\u001b[0m\u001b[1;32m     10\u001b[0m \u001b[0mmodel\u001b[0m\u001b[0;34m.\u001b[0m\u001b[0mcompile\u001b[0m\u001b[0;34m(\u001b[0m\u001b[0mloss\u001b[0m\u001b[0;34m=\u001b[0m\u001b[0;34m'categorical_crossentropy'\u001b[0m\u001b[0;34m,\u001b[0m \u001b[0moptimizer\u001b[0m\u001b[0;34m=\u001b[0m\u001b[0madam\u001b[0m\u001b[0;34m,\u001b[0m \u001b[0mmetrics\u001b[0m\u001b[0;34m=\u001b[0m\u001b[0;34m[\u001b[0m\u001b[0;34m\"accuracy\"\u001b[0m\u001b[0;34m]\u001b[0m\u001b[0;34m)\u001b[0m\u001b[0;34m\u001b[0m\u001b[0;34m\u001b[0m\u001b[0m\n",
            "\u001b[0;32m/usr/local/lib/python3.10/dist-packages/keras/src/optimizers/adam.py\u001b[0m in \u001b[0;36m__init__\u001b[0;34m(self, learning_rate, beta_1, beta_2, epsilon, amsgrad, weight_decay, clipnorm, clipvalue, global_clipnorm, use_ema, ema_momentum, ema_overwrite_frequency, jit_compile, name, **kwargs)\u001b[0m\n\u001b[1;32m    106\u001b[0m         \u001b[0;34m**\u001b[0m\u001b[0mkwargs\u001b[0m\u001b[0;34m\u001b[0m\u001b[0;34m\u001b[0m\u001b[0m\n\u001b[1;32m    107\u001b[0m     ):\n\u001b[0;32m--> 108\u001b[0;31m         super().__init__(\n\u001b[0m\u001b[1;32m    109\u001b[0m             \u001b[0mname\u001b[0m\u001b[0;34m=\u001b[0m\u001b[0mname\u001b[0m\u001b[0;34m,\u001b[0m\u001b[0;34m\u001b[0m\u001b[0;34m\u001b[0m\u001b[0m\n\u001b[1;32m    110\u001b[0m             \u001b[0mweight_decay\u001b[0m\u001b[0;34m=\u001b[0m\u001b[0mweight_decay\u001b[0m\u001b[0;34m,\u001b[0m\u001b[0;34m\u001b[0m\u001b[0;34m\u001b[0m\u001b[0m\n",
            "\u001b[0;32m/usr/local/lib/python3.10/dist-packages/keras/src/optimizers/optimizer.py\u001b[0m in \u001b[0;36m__init__\u001b[0;34m(self, name, weight_decay, clipnorm, clipvalue, global_clipnorm, use_ema, ema_momentum, ema_overwrite_frequency, jit_compile, **kwargs)\u001b[0m\n\u001b[1;32m   1092\u001b[0m         \u001b[0mmesh\u001b[0m \u001b[0;34m=\u001b[0m \u001b[0mkwargs\u001b[0m\u001b[0;34m.\u001b[0m\u001b[0mpop\u001b[0m\u001b[0;34m(\u001b[0m\u001b[0;34m\"mesh\"\u001b[0m\u001b[0;34m,\u001b[0m \u001b[0;32mNone\u001b[0m\u001b[0;34m)\u001b[0m\u001b[0;34m\u001b[0m\u001b[0;34m\u001b[0m\u001b[0m\n\u001b[1;32m   1093\u001b[0m         \u001b[0mself\u001b[0m\u001b[0;34m.\u001b[0m\u001b[0m_mesh\u001b[0m \u001b[0;34m=\u001b[0m \u001b[0mmesh\u001b[0m\u001b[0;34m\u001b[0m\u001b[0;34m\u001b[0m\u001b[0m\n\u001b[0;32m-> 1094\u001b[0;31m         super().__init__(\n\u001b[0m\u001b[1;32m   1095\u001b[0m             \u001b[0mname\u001b[0m\u001b[0;34m,\u001b[0m\u001b[0;34m\u001b[0m\u001b[0;34m\u001b[0m\u001b[0m\n\u001b[1;32m   1096\u001b[0m             \u001b[0mweight_decay\u001b[0m\u001b[0;34m,\u001b[0m\u001b[0;34m\u001b[0m\u001b[0;34m\u001b[0m\u001b[0m\n",
            "\u001b[0;32m/usr/local/lib/python3.10/dist-packages/keras/src/optimizers/optimizer.py\u001b[0m in \u001b[0;36m__init__\u001b[0;34m(self, name, weight_decay, clipnorm, clipvalue, global_clipnorm, use_ema, ema_momentum, ema_overwrite_frequency, jit_compile, **kwargs)\u001b[0m\n\u001b[1;32m    104\u001b[0m         \u001b[0mself\u001b[0m\u001b[0;34m.\u001b[0m\u001b[0m_variables\u001b[0m \u001b[0;34m=\u001b[0m \u001b[0;34m[\u001b[0m\u001b[0;34m]\u001b[0m\u001b[0;34m\u001b[0m\u001b[0;34m\u001b[0m\u001b[0m\n\u001b[1;32m    105\u001b[0m         \u001b[0mself\u001b[0m\u001b[0;34m.\u001b[0m\u001b[0m_create_iteration_variable\u001b[0m\u001b[0;34m(\u001b[0m\u001b[0;34m)\u001b[0m\u001b[0;34m\u001b[0m\u001b[0;34m\u001b[0m\u001b[0m\n\u001b[0;32m--> 106\u001b[0;31m         \u001b[0mself\u001b[0m\u001b[0;34m.\u001b[0m\u001b[0m_process_kwargs\u001b[0m\u001b[0;34m(\u001b[0m\u001b[0mkwargs\u001b[0m\u001b[0;34m)\u001b[0m\u001b[0;34m\u001b[0m\u001b[0;34m\u001b[0m\u001b[0m\n\u001b[0m\u001b[1;32m    107\u001b[0m \u001b[0;34m\u001b[0m\u001b[0m\n\u001b[1;32m    108\u001b[0m     \u001b[0;32mdef\u001b[0m \u001b[0m_create_iteration_variable\u001b[0m\u001b[0;34m(\u001b[0m\u001b[0mself\u001b[0m\u001b[0;34m)\u001b[0m\u001b[0;34m:\u001b[0m\u001b[0;34m\u001b[0m\u001b[0;34m\u001b[0m\u001b[0m\n",
            "\u001b[0;32m/usr/local/lib/python3.10/dist-packages/keras/src/optimizers/optimizer.py\u001b[0m in \u001b[0;36m_process_kwargs\u001b[0;34m(self, kwargs)\u001b[0m\n\u001b[1;32m    133\u001b[0m         \u001b[0;32mfor\u001b[0m \u001b[0mk\u001b[0m \u001b[0;32min\u001b[0m \u001b[0mkwargs\u001b[0m\u001b[0;34m:\u001b[0m\u001b[0;34m\u001b[0m\u001b[0;34m\u001b[0m\u001b[0m\n\u001b[1;32m    134\u001b[0m             \u001b[0;32mif\u001b[0m \u001b[0mk\u001b[0m \u001b[0;32min\u001b[0m \u001b[0mlegacy_kwargs\u001b[0m\u001b[0;34m:\u001b[0m\u001b[0;34m\u001b[0m\u001b[0;34m\u001b[0m\u001b[0m\n\u001b[0;32m--> 135\u001b[0;31m                 raise ValueError(\n\u001b[0m\u001b[1;32m    136\u001b[0m                     \u001b[0;34mf\"{k} is deprecated in the new Keras optimizer, please \"\u001b[0m\u001b[0;34m\u001b[0m\u001b[0;34m\u001b[0m\u001b[0m\n\u001b[1;32m    137\u001b[0m                     \u001b[0;34m\"check the docstring for valid arguments, or use the \"\u001b[0m\u001b[0;34m\u001b[0m\u001b[0;34m\u001b[0m\u001b[0m\n",
            "\u001b[0;31mValueError\u001b[0m: decay is deprecated in the new Keras optimizer, please check the docstring for valid arguments, or use the legacy optimizer, e.g., tf.keras.optimizers.legacy.Adam."
          ]
        }
      ]
    },
    {
      "cell_type": "code",
      "metadata": {
        "colab": {
          "base_uri": "https://localhost:8080/"
        },
        "id": "pMJ3iJw6WTsC",
        "outputId": "3961bd2a-51af-45b5-fc6a-96c8119767a4"
      },
      "source": [
        "print(model.summary())"
      ],
      "execution_count": null,
      "outputs": [
        {
          "output_type": "stream",
          "text": [
            "Model: \"sequential_1\"\n",
            "_________________________________________________________________\n",
            "Layer (type)                 Output Shape              Param #   \n",
            "=================================================================\n",
            "dense_3 (Dense)              (None, 128)               5760      \n",
            "_________________________________________________________________\n",
            "dropout_2 (Dropout)          (None, 128)               0         \n",
            "_________________________________________________________________\n",
            "dense_4 (Dense)              (None, 64)                8256      \n",
            "_________________________________________________________________\n",
            "dropout_3 (Dropout)          (None, 64)                0         \n",
            "_________________________________________________________________\n",
            "dense_5 (Dense)              (None, 5)                 325       \n",
            "=================================================================\n",
            "Total params: 14,341\n",
            "Trainable params: 14,341\n",
            "Non-trainable params: 0\n",
            "_________________________________________________________________\n",
            "None\n"
          ],
          "name": "stdout"
        }
      ]
    },
    {
      "cell_type": "code",
      "metadata": {
        "colab": {
          "base_uri": "https://localhost:8080/"
        },
        "id": "ttBcaaoeWUp-",
        "outputId": "21d1dfde-8b77-41a6-8f4a-fd4110f108f6"
      },
      "source": [
        "# entraînement du modèle\n",
        "model.fit(x=train_X, y=train_y, epochs=200, verbose=1)"
      ],
      "execution_count": null,
      "outputs": [
        {
          "output_type": "stream",
          "text": [
            "Epoch 1/200\n",
            "1/1 [==============================] - 0s 489ms/step - loss: 1.6354 - accuracy: 0.2105\n",
            "Epoch 2/200\n",
            "1/1 [==============================] - 0s 5ms/step - loss: 1.5167 - accuracy: 0.4737\n",
            "Epoch 3/200\n",
            "1/1 [==============================] - 0s 4ms/step - loss: 1.4846 - accuracy: 0.3158\n",
            "Epoch 4/200\n",
            "1/1 [==============================] - 0s 5ms/step - loss: 1.3523 - accuracy: 0.7368\n",
            "Epoch 5/200\n",
            "1/1 [==============================] - 0s 5ms/step - loss: 1.1880 - accuracy: 0.7368\n",
            "Epoch 6/200\n",
            "1/1 [==============================] - 0s 5ms/step - loss: 1.1706 - accuracy: 0.8947\n",
            "Epoch 7/200\n",
            "1/1 [==============================] - 0s 7ms/step - loss: 1.1278 - accuracy: 0.7368\n",
            "Epoch 8/200\n",
            "1/1 [==============================] - 0s 6ms/step - loss: 0.9279 - accuracy: 0.9474\n",
            "Epoch 9/200\n",
            "1/1 [==============================] - 0s 15ms/step - loss: 0.9100 - accuracy: 0.8947\n",
            "Epoch 10/200\n",
            "1/1 [==============================] - 0s 6ms/step - loss: 0.6668 - accuracy: 0.8947\n",
            "Epoch 11/200\n",
            "1/1 [==============================] - 0s 11ms/step - loss: 0.5191 - accuracy: 0.9474\n",
            "Epoch 12/200\n",
            "1/1 [==============================] - 0s 11ms/step - loss: 0.4598 - accuracy: 0.8947\n",
            "Epoch 13/200\n",
            "1/1 [==============================] - 0s 10ms/step - loss: 0.3317 - accuracy: 1.0000\n",
            "Epoch 14/200\n",
            "1/1 [==============================] - 0s 14ms/step - loss: 0.4943 - accuracy: 0.7895\n",
            "Epoch 15/200\n",
            "1/1 [==============================] - 0s 5ms/step - loss: 0.3773 - accuracy: 0.9474\n",
            "Epoch 16/200\n",
            "1/1 [==============================] - 0s 8ms/step - loss: 0.2272 - accuracy: 0.9474\n",
            "Epoch 17/200\n",
            "1/1 [==============================] - 0s 7ms/step - loss: 0.1699 - accuracy: 0.9474\n",
            "Epoch 18/200\n",
            "1/1 [==============================] - 0s 7ms/step - loss: 0.0904 - accuracy: 0.9474\n",
            "Epoch 19/200\n",
            "1/1 [==============================] - 0s 9ms/step - loss: 0.1890 - accuracy: 0.8947\n",
            "Epoch 20/200\n",
            "1/1 [==============================] - 0s 7ms/step - loss: 0.1999 - accuracy: 0.8947\n",
            "Epoch 21/200\n",
            "1/1 [==============================] - 0s 8ms/step - loss: 0.1934 - accuracy: 0.9474\n",
            "Epoch 22/200\n",
            "1/1 [==============================] - 0s 5ms/step - loss: 0.1336 - accuracy: 0.9474\n",
            "Epoch 23/200\n",
            "1/1 [==============================] - 0s 4ms/step - loss: 0.0941 - accuracy: 0.9474\n",
            "Epoch 24/200\n",
            "1/1 [==============================] - 0s 5ms/step - loss: 0.1542 - accuracy: 0.8947\n",
            "Epoch 25/200\n",
            "1/1 [==============================] - 0s 5ms/step - loss: 0.0973 - accuracy: 0.9474\n",
            "Epoch 26/200\n",
            "1/1 [==============================] - 0s 5ms/step - loss: 0.0844 - accuracy: 0.9474\n",
            "Epoch 27/200\n",
            "1/1 [==============================] - 0s 4ms/step - loss: 0.0527 - accuracy: 1.0000\n",
            "Epoch 28/200\n",
            "1/1 [==============================] - 0s 5ms/step - loss: 0.1452 - accuracy: 0.9474\n",
            "Epoch 29/200\n",
            "1/1 [==============================] - 0s 6ms/step - loss: 0.1791 - accuracy: 0.9474\n",
            "Epoch 30/200\n",
            "1/1 [==============================] - 0s 6ms/step - loss: 0.1476 - accuracy: 0.8947\n",
            "Epoch 31/200\n",
            "1/1 [==============================] - 0s 6ms/step - loss: 0.1804 - accuracy: 0.8947\n",
            "Epoch 32/200\n",
            "1/1 [==============================] - 0s 8ms/step - loss: 0.0811 - accuracy: 0.8947\n",
            "Epoch 33/200\n",
            "1/1 [==============================] - 0s 6ms/step - loss: 0.0467 - accuracy: 1.0000\n",
            "Epoch 34/200\n",
            "1/1 [==============================] - 0s 6ms/step - loss: 0.0946 - accuracy: 0.8947\n",
            "Epoch 35/200\n",
            "1/1 [==============================] - 0s 5ms/step - loss: 0.2011 - accuracy: 0.8947\n",
            "Epoch 36/200\n",
            "1/1 [==============================] - 0s 6ms/step - loss: 0.2354 - accuracy: 0.8421\n",
            "Epoch 37/200\n",
            "1/1 [==============================] - 0s 5ms/step - loss: 0.0238 - accuracy: 1.0000\n",
            "Epoch 38/200\n",
            "1/1 [==============================] - 0s 7ms/step - loss: 0.0792 - accuracy: 0.9474\n",
            "Epoch 39/200\n",
            "1/1 [==============================] - 0s 5ms/step - loss: 0.1936 - accuracy: 0.8947\n",
            "Epoch 40/200\n",
            "1/1 [==============================] - 0s 7ms/step - loss: 0.0612 - accuracy: 0.9474\n",
            "Epoch 41/200\n",
            "1/1 [==============================] - 0s 9ms/step - loss: 0.1159 - accuracy: 0.9474\n",
            "Epoch 42/200\n",
            "1/1 [==============================] - 0s 8ms/step - loss: 0.0494 - accuracy: 0.9474\n",
            "Epoch 43/200\n",
            "1/1 [==============================] - 0s 5ms/step - loss: 0.1239 - accuracy: 0.9474\n",
            "Epoch 44/200\n",
            "1/1 [==============================] - 0s 5ms/step - loss: 0.1496 - accuracy: 0.8947\n",
            "Epoch 45/200\n",
            "1/1 [==============================] - 0s 6ms/step - loss: 0.1870 - accuracy: 0.8947\n",
            "Epoch 46/200\n",
            "1/1 [==============================] - 0s 9ms/step - loss: 0.1427 - accuracy: 0.9474\n",
            "Epoch 47/200\n",
            "1/1 [==============================] - 0s 5ms/step - loss: 0.1153 - accuracy: 0.8947\n",
            "Epoch 48/200\n",
            "1/1 [==============================] - 0s 5ms/step - loss: 0.1729 - accuracy: 0.8947\n",
            "Epoch 49/200\n",
            "1/1 [==============================] - 0s 5ms/step - loss: 0.0733 - accuracy: 0.9474\n",
            "Epoch 50/200\n",
            "1/1 [==============================] - 0s 8ms/step - loss: 0.0736 - accuracy: 0.9474\n",
            "Epoch 51/200\n",
            "1/1 [==============================] - 0s 5ms/step - loss: 0.0399 - accuracy: 1.0000\n",
            "Epoch 52/200\n",
            "1/1 [==============================] - 0s 8ms/step - loss: 0.0930 - accuracy: 0.8947\n",
            "Epoch 53/200\n",
            "1/1 [==============================] - 0s 5ms/step - loss: 0.0996 - accuracy: 0.9474\n",
            "Epoch 54/200\n",
            "1/1 [==============================] - 0s 5ms/step - loss: 0.0588 - accuracy: 0.9474\n",
            "Epoch 55/200\n",
            "1/1 [==============================] - 0s 5ms/step - loss: 0.0560 - accuracy: 0.9474\n",
            "Epoch 56/200\n",
            "1/1 [==============================] - 0s 7ms/step - loss: 0.1550 - accuracy: 0.9474\n",
            "Epoch 57/200\n",
            "1/1 [==============================] - 0s 4ms/step - loss: 0.0843 - accuracy: 0.9474\n",
            "Epoch 58/200\n",
            "1/1 [==============================] - 0s 7ms/step - loss: 0.0665 - accuracy: 1.0000\n",
            "Epoch 59/200\n",
            "1/1 [==============================] - 0s 4ms/step - loss: 0.0897 - accuracy: 0.9474\n",
            "Epoch 60/200\n",
            "1/1 [==============================] - 0s 7ms/step - loss: 0.0796 - accuracy: 0.9474\n",
            "Epoch 61/200\n",
            "1/1 [==============================] - 0s 5ms/step - loss: 0.2074 - accuracy: 0.8947\n",
            "Epoch 62/200\n",
            "1/1 [==============================] - 0s 7ms/step - loss: 0.1561 - accuracy: 0.9474\n",
            "Epoch 63/200\n",
            "1/1 [==============================] - 0s 9ms/step - loss: 0.0777 - accuracy: 0.9474\n",
            "Epoch 64/200\n",
            "1/1 [==============================] - 0s 6ms/step - loss: 0.0958 - accuracy: 0.8947\n",
            "Epoch 65/200\n",
            "1/1 [==============================] - 0s 10ms/step - loss: 0.0756 - accuracy: 0.9474\n",
            "Epoch 66/200\n",
            "1/1 [==============================] - 0s 10ms/step - loss: 0.0655 - accuracy: 0.9474\n",
            "Epoch 67/200\n",
            "1/1 [==============================] - 0s 7ms/step - loss: 0.0974 - accuracy: 0.8947\n",
            "Epoch 68/200\n",
            "1/1 [==============================] - 0s 7ms/step - loss: 0.0868 - accuracy: 0.8947\n",
            "Epoch 69/200\n",
            "1/1 [==============================] - 0s 5ms/step - loss: 0.1252 - accuracy: 0.8947\n",
            "Epoch 70/200\n",
            "1/1 [==============================] - 0s 8ms/step - loss: 0.1041 - accuracy: 0.9474\n",
            "Epoch 71/200\n",
            "1/1 [==============================] - 0s 6ms/step - loss: 0.0512 - accuracy: 1.0000\n",
            "Epoch 72/200\n",
            "1/1 [==============================] - 0s 7ms/step - loss: 0.0773 - accuracy: 0.9474\n",
            "Epoch 73/200\n",
            "1/1 [==============================] - 0s 6ms/step - loss: 0.0557 - accuracy: 1.0000\n",
            "Epoch 74/200\n",
            "1/1 [==============================] - 0s 5ms/step - loss: 0.0844 - accuracy: 0.9474\n",
            "Epoch 75/200\n",
            "1/1 [==============================] - 0s 11ms/step - loss: 0.1101 - accuracy: 0.8947\n",
            "Epoch 76/200\n",
            "1/1 [==============================] - 0s 6ms/step - loss: 0.0926 - accuracy: 0.9474\n",
            "Epoch 77/200\n",
            "1/1 [==============================] - 0s 6ms/step - loss: 0.0638 - accuracy: 0.9474\n",
            "Epoch 78/200\n",
            "1/1 [==============================] - 0s 8ms/step - loss: 0.0873 - accuracy: 0.9474\n",
            "Epoch 79/200\n",
            "1/1 [==============================] - 0s 6ms/step - loss: 0.0655 - accuracy: 1.0000\n",
            "Epoch 80/200\n",
            "1/1 [==============================] - 0s 5ms/step - loss: 0.0669 - accuracy: 0.9474\n",
            "Epoch 81/200\n",
            "1/1 [==============================] - 0s 7ms/step - loss: 0.0624 - accuracy: 0.9474\n",
            "Epoch 82/200\n",
            "1/1 [==============================] - 0s 7ms/step - loss: 0.1193 - accuracy: 0.8947\n",
            "Epoch 83/200\n",
            "1/1 [==============================] - 0s 9ms/step - loss: 0.0776 - accuracy: 0.9474\n",
            "Epoch 84/200\n",
            "1/1 [==============================] - 0s 7ms/step - loss: 0.0636 - accuracy: 1.0000\n",
            "Epoch 85/200\n",
            "1/1 [==============================] - 0s 7ms/step - loss: 0.0546 - accuracy: 0.9474\n",
            "Epoch 86/200\n",
            "1/1 [==============================] - 0s 7ms/step - loss: 0.0757 - accuracy: 0.9474\n",
            "Epoch 87/200\n",
            "1/1 [==============================] - 0s 8ms/step - loss: 0.0817 - accuracy: 0.9474\n",
            "Epoch 88/200\n",
            "1/1 [==============================] - 0s 6ms/step - loss: 0.0739 - accuracy: 0.9474\n",
            "Epoch 89/200\n",
            "1/1 [==============================] - 0s 7ms/step - loss: 0.1080 - accuracy: 0.8947\n",
            "Epoch 90/200\n",
            "1/1 [==============================] - 0s 31ms/step - loss: 0.0663 - accuracy: 0.9474\n",
            "Epoch 91/200\n",
            "1/1 [==============================] - 0s 5ms/step - loss: 0.1162 - accuracy: 0.8947\n",
            "Epoch 92/200\n",
            "1/1 [==============================] - 0s 4ms/step - loss: 0.0999 - accuracy: 0.8947\n",
            "Epoch 93/200\n",
            "1/1 [==============================] - 0s 7ms/step - loss: 0.0736 - accuracy: 0.9474\n",
            "Epoch 94/200\n",
            "1/1 [==============================] - 0s 5ms/step - loss: 0.0694 - accuracy: 0.9474\n",
            "Epoch 95/200\n",
            "1/1 [==============================] - 0s 8ms/step - loss: 0.0935 - accuracy: 0.9474\n",
            "Epoch 96/200\n",
            "1/1 [==============================] - 0s 8ms/step - loss: 0.0782 - accuracy: 0.9474\n",
            "Epoch 97/200\n",
            "1/1 [==============================] - 0s 8ms/step - loss: 0.0993 - accuracy: 0.9474\n",
            "Epoch 98/200\n",
            "1/1 [==============================] - 0s 6ms/step - loss: 0.0996 - accuracy: 0.9474\n",
            "Epoch 99/200\n",
            "1/1 [==============================] - 0s 8ms/step - loss: 0.1439 - accuracy: 0.9474\n",
            "Epoch 100/200\n",
            "1/1 [==============================] - 0s 6ms/step - loss: 0.0876 - accuracy: 0.8947\n",
            "Epoch 101/200\n",
            "1/1 [==============================] - 0s 10ms/step - loss: 0.1132 - accuracy: 0.9474\n",
            "Epoch 102/200\n",
            "1/1 [==============================] - 0s 12ms/step - loss: 0.0761 - accuracy: 0.9474\n",
            "Epoch 103/200\n",
            "1/1 [==============================] - 0s 17ms/step - loss: 0.0312 - accuracy: 1.0000\n",
            "Epoch 104/200\n",
            "1/1 [==============================] - 0s 6ms/step - loss: 0.0832 - accuracy: 0.9474\n",
            "Epoch 105/200\n",
            "1/1 [==============================] - 0s 5ms/step - loss: 0.0415 - accuracy: 1.0000\n",
            "Epoch 106/200\n",
            "1/1 [==============================] - 0s 9ms/step - loss: 0.0999 - accuracy: 0.9474\n",
            "Epoch 107/200\n",
            "1/1 [==============================] - 0s 5ms/step - loss: 0.0593 - accuracy: 0.9474\n",
            "Epoch 108/200\n",
            "1/1 [==============================] - 0s 5ms/step - loss: 0.0662 - accuracy: 0.9474\n",
            "Epoch 109/200\n",
            "1/1 [==============================] - 0s 14ms/step - loss: 0.1159 - accuracy: 0.9474\n",
            "Epoch 110/200\n",
            "1/1 [==============================] - 0s 5ms/step - loss: 0.0638 - accuracy: 0.9474\n",
            "Epoch 111/200\n",
            "1/1 [==============================] - 0s 5ms/step - loss: 0.0789 - accuracy: 0.9474\n",
            "Epoch 112/200\n",
            "1/1 [==============================] - 0s 7ms/step - loss: 0.0911 - accuracy: 0.8947\n",
            "Epoch 113/200\n",
            "1/1 [==============================] - 0s 8ms/step - loss: 0.0712 - accuracy: 0.9474\n",
            "Epoch 114/200\n",
            "1/1 [==============================] - 0s 8ms/step - loss: 0.0975 - accuracy: 0.9474\n",
            "Epoch 115/200\n",
            "1/1 [==============================] - 0s 13ms/step - loss: 0.0807 - accuracy: 0.9474\n",
            "Epoch 116/200\n",
            "1/1 [==============================] - 0s 8ms/step - loss: 0.0515 - accuracy: 1.0000\n",
            "Epoch 117/200\n",
            "1/1 [==============================] - 0s 5ms/step - loss: 0.1127 - accuracy: 0.8947\n",
            "Epoch 118/200\n",
            "1/1 [==============================] - 0s 5ms/step - loss: 0.0531 - accuracy: 1.0000\n",
            "Epoch 119/200\n",
            "1/1 [==============================] - 0s 5ms/step - loss: 0.0728 - accuracy: 0.9474\n",
            "Epoch 120/200\n",
            "1/1 [==============================] - 0s 5ms/step - loss: 0.1166 - accuracy: 0.8947\n",
            "Epoch 121/200\n",
            "1/1 [==============================] - 0s 12ms/step - loss: 0.0985 - accuracy: 0.9474\n",
            "Epoch 122/200\n",
            "1/1 [==============================] - 0s 6ms/step - loss: 0.0635 - accuracy: 1.0000\n",
            "Epoch 123/200\n",
            "1/1 [==============================] - 0s 7ms/step - loss: 0.0917 - accuracy: 0.8947\n",
            "Epoch 124/200\n",
            "1/1 [==============================] - 0s 5ms/step - loss: 0.0558 - accuracy: 0.9474\n",
            "Epoch 125/200\n",
            "1/1 [==============================] - 0s 5ms/step - loss: 0.1235 - accuracy: 0.8947\n",
            "Epoch 126/200\n",
            "1/1 [==============================] - 0s 15ms/step - loss: 0.1002 - accuracy: 0.9474\n",
            "Epoch 127/200\n",
            "1/1 [==============================] - 0s 5ms/step - loss: 0.0985 - accuracy: 0.8947\n",
            "Epoch 128/200\n",
            "1/1 [==============================] - 0s 6ms/step - loss: 0.1009 - accuracy: 0.8947\n",
            "Epoch 129/200\n",
            "1/1 [==============================] - 0s 7ms/step - loss: 0.0799 - accuracy: 0.9474\n",
            "Epoch 130/200\n",
            "1/1 [==============================] - 0s 5ms/step - loss: 0.0438 - accuracy: 1.0000\n",
            "Epoch 131/200\n",
            "1/1 [==============================] - 0s 8ms/step - loss: 0.0392 - accuracy: 1.0000\n",
            "Epoch 132/200\n",
            "1/1 [==============================] - 0s 6ms/step - loss: 0.0984 - accuracy: 0.8947\n",
            "Epoch 133/200\n",
            "1/1 [==============================] - 0s 8ms/step - loss: 0.0766 - accuracy: 0.9474\n",
            "Epoch 134/200\n",
            "1/1 [==============================] - 0s 5ms/step - loss: 0.0865 - accuracy: 0.9474\n",
            "Epoch 135/200\n",
            "1/1 [==============================] - 0s 7ms/step - loss: 0.0774 - accuracy: 0.9474\n",
            "Epoch 136/200\n",
            "1/1 [==============================] - 0s 9ms/step - loss: 0.1376 - accuracy: 0.8947\n",
            "Epoch 137/200\n",
            "1/1 [==============================] - 0s 5ms/step - loss: 0.0971 - accuracy: 0.8947\n",
            "Epoch 138/200\n",
            "1/1 [==============================] - 0s 5ms/step - loss: 0.0771 - accuracy: 0.9474\n",
            "Epoch 139/200\n",
            "1/1 [==============================] - 0s 8ms/step - loss: 0.0782 - accuracy: 0.9474\n",
            "Epoch 140/200\n",
            "1/1 [==============================] - 0s 5ms/step - loss: 0.1047 - accuracy: 0.9474\n",
            "Epoch 141/200\n",
            "1/1 [==============================] - 0s 5ms/step - loss: 0.0672 - accuracy: 0.9474\n",
            "Epoch 142/200\n",
            "1/1 [==============================] - 0s 8ms/step - loss: 0.0817 - accuracy: 0.9474\n",
            "Epoch 143/200\n",
            "1/1 [==============================] - 0s 5ms/step - loss: 0.1340 - accuracy: 0.8947\n",
            "Epoch 144/200\n",
            "1/1 [==============================] - 0s 6ms/step - loss: 0.0671 - accuracy: 0.9474\n",
            "Epoch 145/200\n",
            "1/1 [==============================] - 0s 5ms/step - loss: 0.0975 - accuracy: 0.8947\n",
            "Epoch 146/200\n",
            "1/1 [==============================] - 0s 10ms/step - loss: 0.1026 - accuracy: 0.9474\n",
            "Epoch 147/200\n",
            "1/1 [==============================] - 0s 8ms/step - loss: 0.0713 - accuracy: 0.9474\n",
            "Epoch 148/200\n",
            "1/1 [==============================] - 0s 7ms/step - loss: 0.0967 - accuracy: 0.8947\n",
            "Epoch 149/200\n",
            "1/1 [==============================] - 0s 5ms/step - loss: 0.0620 - accuracy: 1.0000\n",
            "Epoch 150/200\n",
            "1/1 [==============================] - 0s 6ms/step - loss: 0.0581 - accuracy: 1.0000\n",
            "Epoch 151/200\n",
            "1/1 [==============================] - 0s 8ms/step - loss: 0.0381 - accuracy: 1.0000\n",
            "Epoch 152/200\n",
            "1/1 [==============================] - 0s 5ms/step - loss: 0.0815 - accuracy: 0.9474\n",
            "Epoch 153/200\n",
            "1/1 [==============================] - 0s 5ms/step - loss: 0.1029 - accuracy: 0.9474\n",
            "Epoch 154/200\n",
            "1/1 [==============================] - 0s 6ms/step - loss: 0.1349 - accuracy: 0.8947\n",
            "Epoch 155/200\n",
            "1/1 [==============================] - 0s 5ms/step - loss: 0.0644 - accuracy: 0.9474\n",
            "Epoch 156/200\n",
            "1/1 [==============================] - 0s 22ms/step - loss: 0.0922 - accuracy: 0.8947\n",
            "Epoch 157/200\n",
            "1/1 [==============================] - 0s 5ms/step - loss: 0.0690 - accuracy: 0.9474\n",
            "Epoch 158/200\n",
            "1/1 [==============================] - 0s 10ms/step - loss: 0.0819 - accuracy: 0.9474\n",
            "Epoch 159/200\n",
            "1/1 [==============================] - 0s 18ms/step - loss: 0.0959 - accuracy: 0.8947\n",
            "Epoch 160/200\n",
            "1/1 [==============================] - 0s 50ms/step - loss: 0.0840 - accuracy: 0.9474\n",
            "Epoch 161/200\n",
            "1/1 [==============================] - 0s 27ms/step - loss: 0.0745 - accuracy: 1.0000\n",
            "Epoch 162/200\n",
            "1/1 [==============================] - 0s 14ms/step - loss: 0.0965 - accuracy: 0.8947\n",
            "Epoch 163/200\n",
            "1/1 [==============================] - 0s 6ms/step - loss: 0.1063 - accuracy: 0.9474\n",
            "Epoch 164/200\n",
            "1/1 [==============================] - 0s 5ms/step - loss: 0.0602 - accuracy: 1.0000\n",
            "Epoch 165/200\n",
            "1/1 [==============================] - 0s 10ms/step - loss: 0.0944 - accuracy: 0.9474\n",
            "Epoch 166/200\n",
            "1/1 [==============================] - 0s 7ms/step - loss: 0.0994 - accuracy: 0.8947\n",
            "Epoch 167/200\n",
            "1/1 [==============================] - 0s 5ms/step - loss: 0.1175 - accuracy: 0.8947\n",
            "Epoch 168/200\n",
            "1/1 [==============================] - 0s 5ms/step - loss: 0.1015 - accuracy: 0.9474\n",
            "Epoch 169/200\n",
            "1/1 [==============================] - 0s 5ms/step - loss: 0.0877 - accuracy: 0.8947\n",
            "Epoch 170/200\n",
            "1/1 [==============================] - 0s 6ms/step - loss: 0.0621 - accuracy: 0.9474\n",
            "Epoch 171/200\n",
            "1/1 [==============================] - 0s 5ms/step - loss: 0.0977 - accuracy: 0.9474\n",
            "Epoch 172/200\n",
            "1/1 [==============================] - 0s 5ms/step - loss: 0.0750 - accuracy: 0.9474\n",
            "Epoch 173/200\n",
            "1/1 [==============================] - 0s 17ms/step - loss: 0.0789 - accuracy: 0.9474\n",
            "Epoch 174/200\n",
            "1/1 [==============================] - 0s 13ms/step - loss: 0.0684 - accuracy: 0.9474\n",
            "Epoch 175/200\n",
            "1/1 [==============================] - 0s 6ms/step - loss: 0.0913 - accuracy: 0.8947\n",
            "Epoch 176/200\n",
            "1/1 [==============================] - 0s 5ms/step - loss: 0.0611 - accuracy: 1.0000\n",
            "Epoch 177/200\n",
            "1/1 [==============================] - 0s 5ms/step - loss: 0.1008 - accuracy: 0.8947\n",
            "Epoch 178/200\n",
            "1/1 [==============================] - 0s 148ms/step - loss: 0.0813 - accuracy: 0.9474\n",
            "Epoch 179/200\n",
            "1/1 [==============================] - 0s 5ms/step - loss: 0.0817 - accuracy: 1.0000\n",
            "Epoch 180/200\n",
            "1/1 [==============================] - 0s 5ms/step - loss: 0.0887 - accuracy: 0.8947\n",
            "Epoch 181/200\n",
            "1/1 [==============================] - 0s 5ms/step - loss: 0.0698 - accuracy: 0.9474\n",
            "Epoch 182/200\n",
            "1/1 [==============================] - 0s 5ms/step - loss: 0.0830 - accuracy: 0.8947\n",
            "Epoch 183/200\n",
            "1/1 [==============================] - 0s 8ms/step - loss: 0.0788 - accuracy: 0.9474\n",
            "Epoch 184/200\n",
            "1/1 [==============================] - 0s 5ms/step - loss: 0.0839 - accuracy: 0.9474\n",
            "Epoch 185/200\n",
            "1/1 [==============================] - 0s 5ms/step - loss: 0.0490 - accuracy: 1.0000\n",
            "Epoch 186/200\n",
            "1/1 [==============================] - 0s 7ms/step - loss: 0.0648 - accuracy: 1.0000\n",
            "Epoch 187/200\n",
            "1/1 [==============================] - 0s 5ms/step - loss: 0.0657 - accuracy: 1.0000\n",
            "Epoch 188/200\n",
            "1/1 [==============================] - 0s 14ms/step - loss: 0.0844 - accuracy: 0.8947\n",
            "Epoch 189/200\n",
            "1/1 [==============================] - 0s 7ms/step - loss: 0.1052 - accuracy: 0.8947\n",
            "Epoch 190/200\n",
            "1/1 [==============================] - 0s 7ms/step - loss: 0.0750 - accuracy: 0.9474\n",
            "Epoch 191/200\n",
            "1/1 [==============================] - 0s 5ms/step - loss: 0.1004 - accuracy: 0.8947\n",
            "Epoch 192/200\n",
            "1/1 [==============================] - 0s 8ms/step - loss: 0.0635 - accuracy: 1.0000\n",
            "Epoch 193/200\n",
            "1/1 [==============================] - 0s 5ms/step - loss: 0.0759 - accuracy: 1.0000\n",
            "Epoch 194/200\n",
            "1/1 [==============================] - 0s 11ms/step - loss: 0.0641 - accuracy: 0.9474\n",
            "Epoch 195/200\n",
            "1/1 [==============================] - 0s 8ms/step - loss: 0.0783 - accuracy: 0.9474\n",
            "Epoch 196/200\n",
            "1/1 [==============================] - 0s 5ms/step - loss: 0.0701 - accuracy: 0.9474\n",
            "Epoch 197/200\n",
            "1/1 [==============================] - 0s 7ms/step - loss: 0.0698 - accuracy: 0.9474\n",
            "Epoch 198/200\n",
            "1/1 [==============================] - 0s 5ms/step - loss: 0.0921 - accuracy: 0.9474\n",
            "Epoch 199/200\n",
            "1/1 [==============================] - 0s 5ms/step - loss: 0.0871 - accuracy: 0.9474\n",
            "Epoch 200/200\n",
            "1/1 [==============================] - 0s 7ms/step - loss: 0.0816 - accuracy: 0.9474\n"
          ],
          "name": "stdout"
        },
        {
          "output_type": "execute_result",
          "data": {
            "text/plain": [
              "<tensorflow.python.keras.callbacks.History at 0x7fca5b976190>"
            ]
          },
          "metadata": {
            "tags": []
          },
          "execution_count": 24
        }
      ]
    },
    {
      "cell_type": "code",
      "metadata": {
        "id": "UWOlS2VtTB93"
      },
      "source": [
        "def clean_text(text):\n",
        "  tokens = nltk.word_tokenize(text)\n",
        "  tokens = [lemmatizer.lemmatize(word) for word in tokens]\n",
        "  return tokens\n",
        "\n",
        "def bag_of_words(text, vocab):\n",
        "  tokens = clean_text(text)\n",
        "  bow = [0] * len(vocab)\n",
        "  for w in tokens:\n",
        "    for idx, word in enumerate(vocab):\n",
        "      if word == w:\n",
        "        bow[idx] = 1\n",
        "  return np.array(bow)\n",
        "\n",
        "def pred_class(text, vocab, labels):\n",
        "  bow = bag_of_words(text, vocab)\n",
        "  result = model.predict(np.array([bow]))[0]\n",
        "  thresh = 0.2\n",
        "  y_pred = [[idx, res] for idx, res in enumerate(result) if res > thresh]\n",
        "\n",
        "  y_pred.sort(key=lambda x: x[1], reverse=True)\n",
        "  return_list = []\n",
        "  for r in y_pred:\n",
        "    return_list.append(labels[r[0]])\n",
        "  return return_list\n",
        "\n",
        "def get_response(intents_list, intents_json):\n",
        "  tag = intents_list[0]\n",
        "  list_of_intents = intents_json[\"intents\"]\n",
        "  for i in list_of_intents:\n",
        "    if i[\"tag\"] == tag:\n",
        "      result = random.choice(i[\"responses\"])\n",
        "      break\n",
        "  return result"
      ],
      "execution_count": null,
      "outputs": []
    },
    {
      "cell_type": "code",
      "metadata": {
        "id": "GE9xqaoPTN1P"
      },
      "source": [
        "# lancement du chatbot\n",
        "while True:\n",
        "    message = input(\"\")\n",
        "    intents = pred_class(message, words, classes)\n",
        "    result = get_response(intents, data)\n",
        "    print(result)"
      ],
      "execution_count": null,
      "outputs": []
    }
  ]
}